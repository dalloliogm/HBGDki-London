{
 "cells": [
  {
   "cell_type": "markdown",
   "metadata": {
    "toc": "true"
   },
   "source": [
    "# Table of Contents\n",
    " <p><div class=\"lev1 toc-item\"><a href=\"#reading-and-preparing-data\" data-toc-modified-id=\"reading-and-preparing-data-1\"><span class=\"toc-item-num\">1&nbsp;&nbsp;</span>reading and preparing data</a></div><div class=\"lev1 toc-item\"><a href=\"#Trajector-Clustering-on-Dimension-reduction\" data-toc-modified-id=\"Trajector-Clustering-on-Dimension-reduction-2\"><span class=\"toc-item-num\">2&nbsp;&nbsp;</span>Trajector Clustering on Dimension reduction</a></div><div class=\"lev2 toc-item\"><a href=\"#using-4-clusters-on-PC1.\" data-toc-modified-id=\"using-4-clusters-on-PC1.-2.1\"><span class=\"toc-item-num\">2.1&nbsp;&nbsp;</span>using 4 clusters on PC1.</a></div><div class=\"lev1 toc-item\"><a href=\"#Trajectory-Clustering-by-Weight\" data-toc-modified-id=\"Trajectory-Clustering-by-Weight-3\"><span class=\"toc-item-num\">3&nbsp;&nbsp;</span>Trajectory Clustering by Weight</a></div>"
   ]
  },
  {
   "cell_type": "markdown",
   "metadata": {},
   "source": [
    "# reading and preparing data"
   ]
  },
  {
   "cell_type": "code",
   "execution_count": 117,
   "metadata": {
    "collapsed": false,
    "run_control": {
     "frozen": false,
     "read_only": false
    }
   },
   "outputs": [],
   "source": [
    "#library(ggbiplot)\n",
    "library(tidyverse, quiet=T)\n",
    "library(traj)\n",
    "library(caret, quiet=T)"
   ]
  },
  {
   "cell_type": "code",
   "execution_count": 118,
   "metadata": {
    "collapsed": false,
    "run_control": {
     "frozen": false,
     "read_only": false
    }
   },
   "outputs": [
    {
     "name": "stdout",
     "output_type": "stream",
     "text": [
      "Observations: 17,370\n",
      "Variables: 37\n",
      "$ STUDYID       <int> 1, 1, 1, 1, 1, 1, 1, 1, 1, 1, 1, 1, 1, 1, 1, 1, 1, 1,...\n",
      "$ SUBJID        <int> 1002, 1002, 1002, 1003, 1003, 1003, 1003, 1003, 1003,...\n",
      "$ SEXN          <int> 2, 2, 2, 1, 1, 1, 1, 1, 1, 1, 1, 1, 1, 1, 1, 1, 1, 1,...\n",
      "$ SEX           <fctr> Female, Female, Female, Male, Male, Male, Male, Male...\n",
      "$ GAGEBRTH      <int> 276, 276, 276, 280, 280, 280, 280, 280, 280, 280, 280...\n",
      "$ BIRTHWT       <int> 3540, 3540, 3540, 3100, 3100, 3100, 3100, 3100, 3100,...\n",
      "$ BIRTHLEN      <dbl> 50.3, 50.3, 50.3, 50.3, 50.3, 50.3, 50.3, 50.3, 50.3,...\n",
      "$ BIRTHHC       <dbl> NA, NA, NA, NA, NA, NA, NA, NA, NA, NA, NA, NA, NA, N...\n",
      "$ DELIVERY      <fctr> Category 2.0, Category 2.0, Category 2.0, Category 2...\n",
      "$ PARITY        <int> 1, 1, 1, 1, 1, 1, 1, 1, 1, 1, 1, 1, 1, 1, 1, 1, 1, 1,...\n",
      "$ GRAVIDA       <int> 1, 1, 1, 1, 1, 1, 1, 1, 1, 1, 1, 1, 1, 1, 1, 1, 1, 1,...\n",
      "$ GAGEDAYS      <int> 255, 277, 669, 223, 224, 263, 266, 281, 321, 463, 645...\n",
      "$ AGEDAYS       <int> -21, 1, 393, -57, -56, -17, -14, 1, 41, 183, 365, 371...\n",
      "$ LENCM         <dbl> NA, 50.3, 79.9, NA, NA, NA, NA, 50.3, 57.3, 67.3, 74....\n",
      "$ WTKG          <dbl> NA, 3.54, 10.74, NA, NA, NA, NA, 3.10, 5.44, 8.04, 8....\n",
      "$ BMI           <dbl> NA, 13.99, 16.82, NA, NA, NA, NA, 12.25, 16.57, 17.75...\n",
      "$ HCIRCM        <dbl> 33.4, NA, 46.9, 29.2, 29.2, 31.0, 31.0, NA, 36.4, 42....\n",
      "$ HAZ           <dbl> NA, 0.53, 1.82, NA, NA, NA, NA, 0.13, 0.60, -0.16, -0...\n",
      "$ WAZ           <dbl> NA, 0.71, 1.28, NA, NA, NA, NA, -0.46, 0.83, 0.12, -0...\n",
      "$ WHZ           <dbl> NA, 0.40, 0.71, NA, NA, NA, NA, -1.02, 0.50, 0.36, -0...\n",
      "$ BAZ           <dbl> NA, 0.53, 0.40, NA, NA, NA, NA, -0.94, 0.71, 0.28, -0...\n",
      "$ HCAZ          <dbl> 1.1447791, NA, 1.2800000, -0.1355403, -0.2463110, -1....\n",
      "$ ABCIRCM       <dbl> 32.5, NA, NA, 25.6, 25.6, 30.2, 30.2, NA, NA, NA, NA,...\n",
      "$ BPDCM         <dbl> 9.1, NA, NA, 8.2, 8.2, 9.1, 9.1, NA, NA, NA, NA, NA, ...\n",
      "$ FEMURCM       <dbl> 7.3, NA, NA, 6.3, 6.3, 7.2, 7.2, NA, NA, NA, NA, NA, ...\n",
      "$ ACAZ          <dbl> 0.4630353, NA, NA, -1.2237732, -1.3196983, -1.3572853...\n",
      "$ BPDAZ         <dbl> -0.2376447, NA, NA, -0.4535162, -0.5539868, -0.607139...\n",
      "$ FLAZ          <dbl> 2.1426457, NA, NA, 1.6165714, 1.4955694, 1.1068995, 0...\n",
      "$ BHC_Z         <dbl> NA, NA, NA, NA, NA, NA, NA, NA, NA, NA, NA, NA, NA, N...\n",
      "$ BLEN_Z        <dbl> 0.89160009, 0.89160009, 0.89160009, 0.23529796, 0.235...\n",
      "$ BWT_Z         <dbl> 0.8604704, 0.8604704, 0.8604704, -0.7255638, -0.72556...\n",
      "$ BWT_40        <dbl> 3.614882, 3.614882, 3.614882, 3.100000, 3.100000, 3.1...\n",
      "$ BLEN_40       <dbl> 50.61003, 50.61003, 50.61003, 50.30000, 50.30000, 50....\n",
      "$ BHC_40        <dbl> NA, NA, NA, NA, NA, NA, NA, NA, NA, NA, NA, NA, NA, N...\n",
      "$ LOG10.FWT.GM  <dbl> 3.486183, NA, NA, 3.233630, 3.233630, 3.419602, 3.419...\n",
      "$ WTKG.estimate <dbl> 3.0632504, 3.5400000, 10.7400000, 1.7124993, 1.712499...\n",
      "$ Study         <chr> \"Study 1\", \"Study 1\", \"Study 1\", \"Study 1\", \"Study 1\"...\n"
     ]
    },
    {
     "data": {
      "text/html": [
       "<table>\n",
       "<thead><tr><th scope=col>GAGEDAYS</th><th scope=col>SUBJID</th><th scope=col>ABCIRCM</th><th scope=col>HCIRCM</th><th scope=col>BPDCM</th><th scope=col>FEMURCM</th><th scope=col>WTKG.estimate</th><th scope=col>measurementId</th><th scope=col>tot_measurements</th></tr></thead>\n",
       "<tbody>\n",
       "\t<tr><td>223      </td><td>1003     </td><td>25.6     </td><td>29.2     </td><td>8.2      </td><td>6.3      </td><td>1.7124993</td><td>1        </td><td>4        </td></tr>\n",
       "\t<tr><td>224      </td><td>1003     </td><td>25.6     </td><td>29.2     </td><td>8.2      </td><td>6.3      </td><td>1.7124993</td><td>2        </td><td>4        </td></tr>\n",
       "\t<tr><td>263      </td><td>1003     </td><td>30.2     </td><td>31.0     </td><td>9.1      </td><td>7.2      </td><td>2.6278574</td><td>3        </td><td>4        </td></tr>\n",
       "\t<tr><td>266      </td><td>1003     </td><td>30.2     </td><td>31.0     </td><td>9.1      </td><td>7.2      </td><td>2.6278574</td><td>4        </td><td>4        </td></tr>\n",
       "\t<tr><td>169      </td><td>1005     </td><td>18.7     </td><td>21.9     </td><td>5.9      </td><td>4.1      </td><td>0.5989562</td><td>1        </td><td>3        </td></tr>\n",
       "\t<tr><td>222      </td><td>1005     </td><td>25.7     </td><td>27.9     </td><td>7.9      </td><td>5.5      </td><td>1.4557182</td><td>2        </td><td>3        </td></tr>\n",
       "</tbody>\n",
       "</table>\n"
      ],
      "text/latex": [
       "\\begin{tabular}{r|lllllllll}\n",
       " GAGEDAYS & SUBJID & ABCIRCM & HCIRCM & BPDCM & FEMURCM & WTKG.estimate & measurementId & tot\\_measurements\\\\\n",
       "\\hline\n",
       "\t 223       & 1003      & 25.6      & 29.2      & 8.2       & 6.3       & 1.7124993 & 1         & 4        \\\\\n",
       "\t 224       & 1003      & 25.6      & 29.2      & 8.2       & 6.3       & 1.7124993 & 2         & 4        \\\\\n",
       "\t 263       & 1003      & 30.2      & 31.0      & 9.1       & 7.2       & 2.6278574 & 3         & 4        \\\\\n",
       "\t 266       & 1003      & 30.2      & 31.0      & 9.1       & 7.2       & 2.6278574 & 4         & 4        \\\\\n",
       "\t 169       & 1005      & 18.7      & 21.9      & 5.9       & 4.1       & 0.5989562 & 1         & 3        \\\\\n",
       "\t 222       & 1005      & 25.7      & 27.9      & 7.9       & 5.5       & 1.4557182 & 2         & 3        \\\\\n",
       "\\end{tabular}\n"
      ],
      "text/plain": [
       "  GAGEDAYS SUBJID ABCIRCM HCIRCM BPDCM FEMURCM WTKG.estimate measurementId\n",
       "1 223      1003   25.6    29.2   8.2   6.3     1.7124993     1            \n",
       "2 224      1003   25.6    29.2   8.2   6.3     1.7124993     2            \n",
       "3 263      1003   30.2    31.0   9.1   7.2     2.6278574     3            \n",
       "4 266      1003   30.2    31.0   9.1   7.2     2.6278574     4            \n",
       "5 169      1005   18.7    21.9   5.9   4.1     0.5989562     1            \n",
       "6 222      1005   25.7    27.9   7.9   5.5     1.4557182     2            \n",
       "  tot_measurements\n",
       "1 4               \n",
       "2 4               \n",
       "3 4               \n",
       "4 4               \n",
       "5 3               \n",
       "6 3               "
      ]
     },
     "metadata": {},
     "output_type": "display_data"
    }
   ],
   "source": [
    "dat0 <- read.csv(\"../training_ultrasound.csv\")\n",
    "\n",
    "# Use Hadlok equation to estimate fetal weight from the 4 key ultrasound measurements\n",
    "dat.raw = dat0 %>%\n",
    "    mutate(\n",
    "        LOG10.FWT.GM = 1.3596 + 0.0064*HCIRCM + 0.0424*ABCIRCM + 0.174*FEMURCM + 0.00061*BPDCM*ABCIRCM - 0.00386*ABCIRCM*FEMURCM,\n",
    "        WTKG.estimate = ifelse(AGEDAYS<1 ,(10^LOG10.FWT.GM)/1000 ,WTKG) ,\n",
    "        Study = paste('Study', STUDYID)\n",
    "        )\n",
    "dat.raw %>% glimpse\n",
    "# clean data, remove samples with only one observation and after-birth\n",
    "dat = dat.raw %>% group_by(SUBJID) %>%\n",
    "    mutate(tot.measurements = n()) %>%\n",
    "    filter(tot.measurements >1) %>%\n",
    "    filter(AGEDAYS<0)\n",
    "\n",
    "\n",
    "dat.train.raw = dat %>% ungroup %>%\n",
    "    select(GAGEDAYS, SUBJID, ABCIRCM, HCIRCM, BPDCM, FEMURCM, WTKG.estimate) %>%\n",
    "    filter(complete.cases(.)) %>% group_by(SUBJID) %>%\n",
    "    mutate(measurementId = row_number(), tot_measurements=n()) %>%\n",
    "    filter(measurementId < 7) %>%\n",
    "    filter(tot_measurements >1) %>% \n",
    "    ungroup %>%\n",
    "     filter(GAGEDAYS > 100, GAGEDAYS <310)\n",
    "\n",
    "dat.train = dat.train.raw %>% dplyr::select(-WTKG.estimate)\n",
    "dat.train.raw %>% head"
   ]
  },
  {
   "cell_type": "markdown",
   "metadata": {},
   "source": [
    "# Trajector Clustering on Dimension reduction\n",
    "\n",
    "We use PCA to reduce the four physical variables to one single dimension"
   ]
  },
  {
   "cell_type": "code",
   "execution_count": 119,
   "metadata": {
    "collapsed": false,
    "run_control": {
     "frozen": false,
     "read_only": false
    }
   },
   "outputs": [
    {
     "data": {
      "text/html": [
       "<table>\n",
       "<thead><tr><th scope=col>ABCIRCM</th><th scope=col>HCIRCM</th><th scope=col>BPDCM</th><th scope=col>FEMURCM</th></tr></thead>\n",
       "<tbody>\n",
       "\t<tr><td>25.6</td><td>29.2</td><td>8.2 </td><td>6.3 </td></tr>\n",
       "\t<tr><td>25.6</td><td>29.2</td><td>8.2 </td><td>6.3 </td></tr>\n",
       "\t<tr><td>30.2</td><td>31.0</td><td>9.1 </td><td>7.2 </td></tr>\n",
       "\t<tr><td>30.2</td><td>31.0</td><td>9.1 </td><td>7.2 </td></tr>\n",
       "\t<tr><td>18.7</td><td>21.9</td><td>5.9 </td><td>4.1 </td></tr>\n",
       "\t<tr><td>25.7</td><td>27.9</td><td>7.9 </td><td>5.5 </td></tr>\n",
       "</tbody>\n",
       "</table>\n"
      ],
      "text/latex": [
       "\\begin{tabular}{r|llll}\n",
       " ABCIRCM & HCIRCM & BPDCM & FEMURCM\\\\\n",
       "\\hline\n",
       "\t 25.6 & 29.2 & 8.2  & 6.3 \\\\\n",
       "\t 25.6 & 29.2 & 8.2  & 6.3 \\\\\n",
       "\t 30.2 & 31.0 & 9.1  & 7.2 \\\\\n",
       "\t 30.2 & 31.0 & 9.1  & 7.2 \\\\\n",
       "\t 18.7 & 21.9 & 5.9  & 4.1 \\\\\n",
       "\t 25.7 & 27.9 & 7.9  & 5.5 \\\\\n",
       "\\end{tabular}\n"
      ],
      "text/plain": [
       "  ABCIRCM HCIRCM BPDCM FEMURCM\n",
       "1 25.6    29.2   8.2   6.3    \n",
       "2 25.6    29.2   8.2   6.3    \n",
       "3 30.2    31.0   9.1   7.2    \n",
       "4 30.2    31.0   9.1   7.2    \n",
       "5 18.7    21.9   5.9   4.1    \n",
       "6 25.7    27.9   7.9   5.5    "
      ]
     },
     "metadata": {},
     "output_type": "display_data"
    },
    {
     "data": {
      "text/html": [
       "<table>\n",
       "<thead><tr><th scope=col>PC1</th><th scope=col>PC2</th><th scope=col>PC3</th><th scope=col>PC4</th></tr></thead>\n",
       "<tbody>\n",
       "\t<tr><td>-0.7259952 </td><td> 0.19000650</td><td>-0.2912082 </td><td> 0.01129281</td></tr>\n",
       "\t<tr><td>-0.7259952 </td><td> 0.19000650</td><td>-0.2912082 </td><td> 0.01129281</td></tr>\n",
       "\t<tr><td>-1.9086354 </td><td>-0.02391508</td><td>-0.2858182 </td><td>-0.20697391</td></tr>\n",
       "\t<tr><td>-1.9086354 </td><td>-0.02391508</td><td>-0.2858182 </td><td>-0.20697391</td></tr>\n",
       "\t<tr><td> 2.1286479 </td><td> 0.06515534</td><td> 0.1024382 </td><td> 0.08093121</td></tr>\n",
       "\t<tr><td>-0.2038839 </td><td> 0.20896379</td><td> 0.1604442 </td><td>-0.01146474</td></tr>\n",
       "</tbody>\n",
       "</table>\n"
      ],
      "text/latex": [
       "\\begin{tabular}{llll}\n",
       " PC1 & PC2 & PC3 & PC4\\\\\n",
       "\\hline\n",
       "\t -0.7259952  &  0.19000650 & -0.2912082  &  0.01129281\\\\\n",
       "\t -0.7259952  &  0.19000650 & -0.2912082  &  0.01129281\\\\\n",
       "\t -1.9086354  & -0.02391508 & -0.2858182  & -0.20697391\\\\\n",
       "\t -1.9086354  & -0.02391508 & -0.2858182  & -0.20697391\\\\\n",
       "\t  2.1286479  &  0.06515534 &  0.1024382  &  0.08093121\\\\\n",
       "\t -0.2038839  &  0.20896379 &  0.1604442  & -0.01146474\\\\\n",
       "\\end{tabular}\n"
      ],
      "text/markdown": [
       "1. -0.725995212722844\n",
       "2. -0.725995212722844\n",
       "3. -1.90863542686235\n",
       "4. -1.90863542686235\n",
       "5. 2.12864793934958\n",
       "6. -0.203883874759847\n",
       "7. 0.190006502975501\n",
       "8. 0.190006502975501\n",
       "9. -0.0239150834172062\n",
       "10. -0.0239150834172062\n",
       "11. 0.065155341452629\n",
       "12. 0.208963793045978\n",
       "13. -0.291208221483695\n",
       "14. -0.291208221483695\n",
       "15. -0.285818158304401\n",
       "16. -0.285818158304401\n",
       "17. 0.10243816087718\n",
       "18. 0.160444249307623\n",
       "19. 0.0112928075751231\n",
       "20. 0.0112928075751231\n",
       "21. -0.206973913127723\n",
       "22. -0.206973913127723\n",
       "23. 0.0809312111350747\n",
       "24. -0.011464743079647\n",
       "\n",
       "\n"
      ],
      "text/plain": [
       "     PC1        PC2         PC3        PC4        \n",
       "[1,] -0.7259952  0.19000650 -0.2912082  0.01129281\n",
       "[2,] -0.7259952  0.19000650 -0.2912082  0.01129281\n",
       "[3,] -1.9086354 -0.02391508 -0.2858182 -0.20697391\n",
       "[4,] -1.9086354 -0.02391508 -0.2858182 -0.20697391\n",
       "[5,]  2.1286479  0.06515534  0.1024382  0.08093121\n",
       "[6,] -0.2038839  0.20896379  0.1604442 -0.01146474"
      ]
     },
     "metadata": {},
     "output_type": "display_data"
    },
    {
     "data": {
      "text/html": [
       "7164"
      ],
      "text/latex": [
       "7164"
      ],
      "text/markdown": [
       "7164"
      ],
      "text/plain": [
       "[1] 7164"
      ]
     },
     "metadata": {},
     "output_type": "display_data"
    }
   ],
   "source": [
    "#dat.train %>% head\n",
    "\n",
    "dat.prcomp = dat.train  %>%\n",
    "    select(-GAGEDAYS, -SUBJID, -measurementId, -tot_measurements) %>% \n",
    "    filter(complete.cases(.)) %>% \n",
    "    mutate_each(funs(as.numeric(.))) %>%\n",
    "    prcomp(., center=T, scale.=T)\n",
    "\n",
    "dat.train  %>%\n",
    "    select(-GAGEDAYS, -SUBJID, -measurementId, -tot_measurements) %>% \n",
    "    filter(complete.cases(.)) %>% \n",
    "    head\n",
    "dat.prcomp$x %>% head\n",
    "\n",
    "dat.train %>% nrow"
   ]
  },
  {
   "cell_type": "code",
   "execution_count": 120,
   "metadata": {
    "collapsed": false
   },
   "outputs": [
    {
     "data": {
      "image/png": "[encoded data removed]",
      "text/plain": [
       "Plot with title “dat.prcomp”"
      ]
     },
     "metadata": {},
     "output_type": "display_data"
    }
   ],
   "source": [
    "plot(dat.prcomp)"
   ]
  },
  {
   "cell_type": "code",
   "execution_count": null,
   "metadata": {
    "collapsed": false,
    "run_control": {
     "frozen": false,
     "read_only": false
    }
   },
   "outputs": [],
   "source": [
    "PC = dat.prcomp$x %>% tbl_df %>% select(PC1, PC2) \n",
    "\n",
    "dat.train$PC1 = -1 * PC$PC1\n",
    "dat.train$PC2 = -1 * PC$PC2\n",
    "dat.train %>% head\n",
    "\n"
   ]
  },
  {
   "cell_type": "code",
   "execution_count": 122,
   "metadata": {
    "collapsed": false,
    "run_control": {
     "frozen": false,
     "read_only": false
    }
   },
   "outputs": [],
   "source": [
    "dat.times = dat.train %>% \n",
    "    select(SUBJID, measurementId, GAGEDAYS) %>% \n",
    "    spread(measurementId, GAGEDAYS) %>% \n",
    "#    filter(complete.cases(.)) %>% \n",
    "    as.matrix\n",
    "dat.values = dat.train %>% \n",
    "    select(SUBJID, measurementId, PC1) %>%  \n",
    "    spread(measurementId, PC1) %>% \n",
    "#    filter(complete.cases(.)) %>% \n",
    "    as.matrix"
   ]
  },
  {
   "cell_type": "code",
   "execution_count": 123,
   "metadata": {
    "collapsed": false,
    "run_control": {
     "frozen": false,
     "read_only": false
    }
   },
   "outputs": [
    {
     "data": {
      "text/html": [
       "<table>\n",
       "<thead><tr><th></th><th scope=col>SUBJID</th><th scope=col>1</th><th scope=col>2</th><th scope=col>3</th><th scope=col>4</th><th scope=col>5</th><th scope=col>6</th></tr></thead>\n",
       "<tbody>\n",
       "\t<tr><th scope=row>1</th><td>1003</td><td>223 </td><td>224 </td><td>263 </td><td>266 </td><td> NA </td><td> NA </td></tr>\n",
       "\t<tr><th scope=row>2</th><td>1005</td><td>169 </td><td>222 </td><td>264 </td><td> NA </td><td> NA </td><td> NA </td></tr>\n",
       "\t<tr><th scope=row>3</th><td>1006</td><td>222 </td><td>266 </td><td> NA </td><td> NA </td><td> NA </td><td> NA </td></tr>\n",
       "\t<tr><th scope=row>4</th><td>1009</td><td>168 </td><td>231 </td><td> NA </td><td> NA </td><td> NA </td><td> NA </td></tr>\n",
       "\t<tr><th scope=row>5</th><td>1011</td><td>168 </td><td>219 </td><td>261 </td><td> NA </td><td> NA </td><td> NA </td></tr>\n",
       "\t<tr><th scope=row>6</th><td>1012</td><td>168 </td><td>169 </td><td>231 </td><td>232 </td><td>259 </td><td>260 </td></tr>\n",
       "</tbody>\n",
       "</table>\n"
      ],
      "text/latex": [
       "\\begin{tabular}{r|lllllll}\n",
       "  & SUBJID & 1 & 2 & 3 & 4 & 5 & 6\\\\\n",
       "\\hline\n",
       "\t1 & 1003 & 223  & 224  & 263  & 266  &  NA  &  NA \\\\\n",
       "\t2 & 1005 & 169  & 222  & 264  &  NA  &  NA  &  NA \\\\\n",
       "\t3 & 1006 & 222  & 266  &  NA  &  NA  &  NA  &  NA \\\\\n",
       "\t4 & 1009 & 168  & 231  &  NA  &  NA  &  NA  &  NA \\\\\n",
       "\t5 & 1011 & 168  & 219  & 261  &  NA  &  NA  &  NA \\\\\n",
       "\t6 & 1012 & 168  & 169  & 231  & 232  & 259  & 260 \\\\\n",
       "\\end{tabular}\n"
      ],
      "text/markdown": [
       "1. 1003\n",
       "2. 1005\n",
       "3. 1006\n",
       "4. 1009\n",
       "5. 1011\n",
       "6. 1012\n",
       "7. 223\n",
       "8. 169\n",
       "9. 222\n",
       "10. 168\n",
       "11. 168\n",
       "12. 168\n",
       "13. 224\n",
       "14. 222\n",
       "15. 266\n",
       "16. 231\n",
       "17. 219\n",
       "18. 169\n",
       "19. 263\n",
       "20. 264\n",
       "21. NA\n",
       "22. NA\n",
       "23. 261\n",
       "24. 231\n",
       "25. 266\n",
       "26. NA\n",
       "27. NA\n",
       "28. NA\n",
       "29. NA\n",
       "30. 232\n",
       "31. NA\n",
       "32. NA\n",
       "33. NA\n",
       "34. NA\n",
       "35. NA\n",
       "36. 259\n",
       "37. NA\n",
       "38. NA\n",
       "39. NA\n",
       "40. NA\n",
       "41. NA\n",
       "42. 260\n",
       "\n",
       "\n"
      ],
      "text/plain": [
       "  SUBJID 1   2   3   4   5   6  \n",
       "1 1003   223 224 263 266  NA  NA\n",
       "2 1005   169 222 264  NA  NA  NA\n",
       "3 1006   222 266  NA  NA  NA  NA\n",
       "4 1009   168 231  NA  NA  NA  NA\n",
       "5 1011   168 219 261  NA  NA  NA\n",
       "6 1012   168 169 231 232 259 260"
      ]
     },
     "metadata": {},
     "output_type": "display_data"
    },
    {
     "data": {
      "text/html": [
       "<table>\n",
       "<thead><tr><th></th><th scope=col>SUBJID</th><th scope=col>1</th><th scope=col>2</th><th scope=col>3</th><th scope=col>4</th><th scope=col>5</th><th scope=col>6</th></tr></thead>\n",
       "<tbody>\n",
       "\t<tr><th scope=row>1</th><td>1003      </td><td> 0.7259952</td><td> 0.7259952</td><td>1.908635  </td><td>1.908635  </td><td>      NA  </td><td>      NA  </td></tr>\n",
       "\t<tr><th scope=row>2</th><td>1005      </td><td>-2.1286479</td><td> 0.2038839</td><td>1.664705  </td><td>      NA  </td><td>      NA  </td><td>      NA  </td></tr>\n",
       "\t<tr><th scope=row>3</th><td>1006      </td><td> 0.7414450</td><td> 1.9884762</td><td>      NA  </td><td>      NA  </td><td>      NA  </td><td>      NA  </td></tr>\n",
       "\t<tr><th scope=row>4</th><td>1009      </td><td>-2.5661299</td><td> 0.6405581</td><td>      NA  </td><td>      NA  </td><td>      NA  </td><td>      NA  </td></tr>\n",
       "\t<tr><th scope=row>5</th><td>1011      </td><td>-2.4107879</td><td>-0.1732034</td><td>1.323432  </td><td>      NA  </td><td>      NA  </td><td>      NA  </td></tr>\n",
       "\t<tr><th scope=row>6</th><td>1012      </td><td>-2.2493502</td><td>-2.2493502</td><td>1.039961  </td><td>1.039961  </td><td>2.286775  </td><td>2.286775  </td></tr>\n",
       "</tbody>\n",
       "</table>\n"
      ],
      "text/latex": [
       "\\begin{tabular}{r|lllllll}\n",
       "  & SUBJID & 1 & 2 & 3 & 4 & 5 & 6\\\\\n",
       "\\hline\n",
       "\t1 & 1003       &  0.7259952 &  0.7259952 & 1.908635   & 1.908635   &       NA   &       NA  \\\\\n",
       "\t2 & 1005       & -2.1286479 &  0.2038839 & 1.664705   &       NA   &       NA   &       NA  \\\\\n",
       "\t3 & 1006       &  0.7414450 &  1.9884762 &       NA   &       NA   &       NA   &       NA  \\\\\n",
       "\t4 & 1009       & -2.5661299 &  0.6405581 &       NA   &       NA   &       NA   &       NA  \\\\\n",
       "\t5 & 1011       & -2.4107879 & -0.1732034 & 1.323432   &       NA   &       NA   &       NA  \\\\\n",
       "\t6 & 1012       & -2.2493502 & -2.2493502 & 1.039961   & 1.039961   & 2.286775   & 2.286775  \\\\\n",
       "\\end{tabular}\n"
      ],
      "text/markdown": [
       "1. 1003\n",
       "2. 1005\n",
       "3. 1006\n",
       "4. 1009\n",
       "5. 1011\n",
       "6. 1012\n",
       "7. 0.725995212722844\n",
       "8. -2.12864793934958\n",
       "9. 0.741444951672171\n",
       "10. -2.56612991920784\n",
       "11. -2.41078792506389\n",
       "12. -2.2493501956122\n",
       "13. 0.725995212722844\n",
       "14. 0.203883874759847\n",
       "15. 1.98847619572234\n",
       "16. 0.640558147690897\n",
       "17. -0.17320338714412\n",
       "18. -2.2493501956122\n",
       "19. 1.90863542686235\n",
       "20. 1.66470497957246\n",
       "21. NA\n",
       "22. NA\n",
       "23. 1.32343179902546\n",
       "24. 1.03996062688487\n",
       "25. 1.90863542686235\n",
       "26. NA\n",
       "27. NA\n",
       "28. NA\n",
       "29. NA\n",
       "30. 1.03996062688487\n",
       "31. NA\n",
       "32. NA\n",
       "33. NA\n",
       "34. NA\n",
       "35. NA\n",
       "36. 2.28677516526921\n",
       "37. NA\n",
       "38. NA\n",
       "39. NA\n",
       "40. NA\n",
       "41. NA\n",
       "42. 2.28677516526921\n",
       "\n",
       "\n"
      ],
      "text/plain": [
       "  SUBJID 1          2          3        4        5        6       \n",
       "1 1003    0.7259952  0.7259952 1.908635 1.908635       NA       NA\n",
       "2 1005   -2.1286479  0.2038839 1.664705       NA       NA       NA\n",
       "3 1006    0.7414450  1.9884762       NA       NA       NA       NA\n",
       "4 1009   -2.5661299  0.6405581       NA       NA       NA       NA\n",
       "5 1011   -2.4107879 -0.1732034 1.323432       NA       NA       NA\n",
       "6 1012   -2.2493502 -2.2493502 1.039961 1.039961 2.286775 2.286775"
      ]
     },
     "metadata": {},
     "output_type": "display_data"
    }
   ],
   "source": [
    "dat.times %>% head\n",
    "dat.values %>% head\n"
   ]
  },
  {
   "cell_type": "code",
   "execution_count": 124,
   "metadata": {
    "collapsed": false,
    "run_control": {
     "frozen": false,
     "read_only": false
    }
   },
   "outputs": [],
   "source": [
    "library(traj)"
   ]
  },
  {
   "cell_type": "code",
   "execution_count": 125,
   "metadata": {
    "collapsed": false,
    "run_control": {
     "frozen": false,
     "read_only": false
    }
   },
   "outputs": [
    {
     "name": "stdout",
     "output_type": "stream",
     "text": [
      "[1] \"Correlation of m1 and m5 : 1\"\n",
      "[1] \"Correlation of m11 and m15 : 1\"\n"
     ]
    }
   ],
   "source": [
    "s1.pc1 = step1measures(dat.values, dat.times, ID=T)"
   ]
  },
  {
   "cell_type": "code",
   "execution_count": 126,
   "metadata": {
    "collapsed": false,
    "run_control": {
     "frozen": false,
     "read_only": false
    }
   },
   "outputs": [
    {
     "name": "stdout",
     "output_type": "stream",
     "text": [
      "[1] \"m5 is removed because it is perfectly correlated with m1\"  \n",
      "[2] \"m15 is removed because it is perfectly correlated with m11\"\n",
      "[1] \"Computing reduced correlation e-values...\"\n"
     ]
    }
   ],
   "source": [
    "s2.pc1 = step2factors(s1.pc1)"
   ]
  },
  {
   "cell_type": "code",
   "execution_count": 127,
   "metadata": {
    "collapsed": false,
    "run_control": {
     "frozen": false,
     "read_only": false
    }
   },
   "outputs": [
    {
     "data": {
      "text/html": [
       "<table>\n",
       "<thead><tr><th scope=col>cluster</th><th scope=col>n</th></tr></thead>\n",
       "<tbody>\n",
       "\t<tr><td>1  </td><td>  1</td></tr>\n",
       "\t<tr><td>2  </td><td> 12</td></tr>\n",
       "\t<tr><td>3  </td><td>  5</td></tr>\n",
       "\t<tr><td>4  </td><td>578</td></tr>\n",
       "</tbody>\n",
       "</table>\n"
      ],
      "text/latex": [
       "\\begin{tabular}{r|ll}\n",
       " cluster & n\\\\\n",
       "\\hline\n",
       "\t 1   &   1\\\\\n",
       "\t 2   &  12\\\\\n",
       "\t 3   &   5\\\\\n",
       "\t 4   & 578\\\\\n",
       "\\end{tabular}\n"
      ],
      "text/plain": [
       "  cluster n  \n",
       "1 1         1\n",
       "2 2        12\n",
       "3 3         5\n",
       "4 4       578"
      ]
     },
     "metadata": {},
     "output_type": "display_data"
    }
   ],
   "source": [
    "s3.pc1 = step3clusters(s2.pc1,4 )\n",
    "s3.pc1$clusters %>% count(cluster)\n"
   ]
  },
  {
   "cell_type": "markdown",
   "metadata": {},
   "source": [
    "## using 4 clusters on PC1. \n",
    "\n",
    "Cluster 4 has a drop between days 150-200"
   ]
  },
  {
   "cell_type": "code",
   "execution_count": 128,
   "metadata": {
    "collapsed": false,
    "run_control": {
     "frozen": false,
     "read_only": false
    }
   },
   "outputs": [
    {
     "data": {
      "image/png": "[encoded data removed]",
      "text/plain": [
       "Plot with title “Cluster 4”"
      ]
     },
     "metadata": {},
     "output_type": "display_data"
    }
   ],
   "source": [
    "plotMedTraj(s3.pc1)"
   ]
  },
  {
   "cell_type": "code",
   "execution_count": 129,
   "metadata": {
    "collapsed": false,
    "run_control": {
     "frozen": false,
     "read_only": false
    }
   },
   "outputs": [
    {
     "data": {
      "image/png": "[encoded data removed]",
      "text/plain": [
       "Plot with title “Mean Trajectory of all Clusters”"
      ]
     },
     "metadata": {},
     "output_type": "display_data"
    }
   ],
   "source": [
    "plotCombTraj(s3.pc1)"
   ]
  },
  {
   "cell_type": "code",
   "execution_count": 130,
   "metadata": {
    "collapsed": false,
    "run_control": {
     "frozen": false,
     "read_only": false
    }
   },
   "outputs": [
    {
     "data": {
      "image/png": "[encoded data removed]",
      "text/plain": [
       "Plot with title “Cluster 4”"
      ]
     },
     "metadata": {},
     "output_type": "display_data"
    }
   ],
   "source": [
    "plotBoxplotTraj(s3.pc1)"
   ]
  },
  {
   "cell_type": "markdown",
   "metadata": {},
   "source": [
    "## Trajectory Clustering on PC1"
   ]
  },
  {
   "cell_type": "code",
   "execution_count": 131,
   "metadata": {
    "collapsed": true
   },
   "outputs": [],
   "source": [
    "dat.values.pc2 = dat.train %>% \n",
    "    select(SUBJID, measurementId, PC2) %>%  \n",
    "    spread(measurementId, PC2) %>% \n",
    "#    filter(complete.cases(.)) %>% \n",
    "    as.matrix"
   ]
  },
  {
   "cell_type": "code",
   "execution_count": 132,
   "metadata": {
    "collapsed": false
   },
   "outputs": [
    {
     "data": {
      "text/html": [
       "<table>\n",
       "<thead><tr><th></th><th scope=col>SUBJID</th><th scope=col>1</th><th scope=col>2</th><th scope=col>3</th><th scope=col>4</th><th scope=col>5</th><th scope=col>6</th></tr></thead>\n",
       "<tbody>\n",
       "\t<tr><th scope=row>1</th><td>1003        </td><td>-0.190006503</td><td>-0.19000650 </td><td> 0.023915083</td><td>0.023915083 </td><td>       NA   </td><td>       NA   </td></tr>\n",
       "\t<tr><th scope=row>2</th><td>1005        </td><td>-0.065155341</td><td>-0.20896379 </td><td>-0.058383617</td><td>         NA </td><td>       NA   </td><td>       NA   </td></tr>\n",
       "\t<tr><th scope=row>3</th><td>1006        </td><td>-0.150366558</td><td>-0.14903644 </td><td>          NA</td><td>         NA </td><td>       NA   </td><td>       NA   </td></tr>\n",
       "\t<tr><th scope=row>4</th><td>1009        </td><td> 0.003741555</td><td> 0.04956008 </td><td>          NA</td><td>         NA </td><td>       NA   </td><td>       NA   </td></tr>\n",
       "\t<tr><th scope=row>5</th><td>1011        </td><td> 0.207196087</td><td>-0.08341447 </td><td> 0.092930794</td><td>         NA </td><td>       NA   </td><td>       NA   </td></tr>\n",
       "\t<tr><th scope=row>6</th><td>1012        </td><td> 0.188052484</td><td> 0.18805248 </td><td> 0.003007464</td><td>0.003007464 </td><td>0.2014879   </td><td>0.2014879   </td></tr>\n",
       "</tbody>\n",
       "</table>\n"
      ],
      "text/latex": [
       "\\begin{tabular}{r|lllllll}\n",
       "  & SUBJID & 1 & 2 & 3 & 4 & 5 & 6\\\\\n",
       "\\hline\n",
       "\t1 & 1003         & -0.190006503 & -0.19000650  &  0.023915083 & 0.023915083  &        NA    &        NA   \\\\\n",
       "\t2 & 1005         & -0.065155341 & -0.20896379  & -0.058383617 &          NA  &        NA    &        NA   \\\\\n",
       "\t3 & 1006         & -0.150366558 & -0.14903644  &           NA &          NA  &        NA    &        NA   \\\\\n",
       "\t4 & 1009         &  0.003741555 &  0.04956008  &           NA &          NA  &        NA    &        NA   \\\\\n",
       "\t5 & 1011         &  0.207196087 & -0.08341447  &  0.092930794 &          NA  &        NA    &        NA   \\\\\n",
       "\t6 & 1012         &  0.188052484 &  0.18805248  &  0.003007464 & 0.003007464  & 0.2014879    & 0.2014879   \\\\\n",
       "\\end{tabular}\n"
      ],
      "text/markdown": [
       "1. 1003\n",
       "2. 1005\n",
       "3. 1006\n",
       "4. 1009\n",
       "5. 1011\n",
       "6. 1012\n",
       "7. -0.190006502975501\n",
       "8. -0.065155341452629\n",
       "9. -0.150366558286223\n",
       "10. 0.00374155470741322\n",
       "11. 0.207196086657954\n",
       "12. 0.188052484182757\n",
       "13. -0.190006502975501\n",
       "14. -0.208963793045978\n",
       "15. -0.149036444850183\n",
       "16. 0.0495600841889572\n",
       "17. -0.083414465759794\n",
       "18. 0.188052484182757\n",
       "19. 0.0239150834172062\n",
       "20. -0.0583836165358629\n",
       "21. NA\n",
       "22. NA\n",
       "23. 0.0929307940986008\n",
       "24. 0.00300746433057475\n",
       "25. 0.0239150834172062\n",
       "26. NA\n",
       "27. NA\n",
       "28. NA\n",
       "29. NA\n",
       "30. 0.00300746433057475\n",
       "31. NA\n",
       "32. NA\n",
       "33. NA\n",
       "34. NA\n",
       "35. NA\n",
       "36. 0.201487918035553\n",
       "37. NA\n",
       "38. NA\n",
       "39. NA\n",
       "40. NA\n",
       "41. NA\n",
       "42. 0.201487918035553\n",
       "\n",
       "\n"
      ],
      "text/plain": [
       "  SUBJID 1            2           3            4           5         6        \n",
       "1 1003   -0.190006503 -0.19000650  0.023915083 0.023915083        NA        NA\n",
       "2 1005   -0.065155341 -0.20896379 -0.058383617          NA        NA        NA\n",
       "3 1006   -0.150366558 -0.14903644           NA          NA        NA        NA\n",
       "4 1009    0.003741555  0.04956008           NA          NA        NA        NA\n",
       "5 1011    0.207196087 -0.08341447  0.092930794          NA        NA        NA\n",
       "6 1012    0.188052484  0.18805248  0.003007464 0.003007464 0.2014879 0.2014879"
      ]
     },
     "metadata": {},
     "output_type": "display_data"
    }
   ],
   "source": [
    "dat.values.pc2 %>% head"
   ]
  },
  {
   "cell_type": "code",
   "execution_count": 133,
   "metadata": {
    "collapsed": false
   },
   "outputs": [
    {
     "name": "stdout",
     "output_type": "stream",
     "text": [
      "[1] \"Correlation of m17 and m18 : 1\"\n"
     ]
    }
   ],
   "source": [
    "s1.pc2 = step1measures(dat.values.pc2, dat.times, ID=T)\n"
   ]
  },
  {
   "cell_type": "code",
   "execution_count": 134,
   "metadata": {
    "collapsed": false
   },
   "outputs": [],
   "source": [
    "s1.pc2$measurments$m5 = NULL"
   ]
  },
  {
   "cell_type": "code",
   "execution_count": null,
   "metadata": {
    "collapsed": false
   },
   "outputs": [],
   "source": [
    "s2.pc2 = step2factors(s1.pc2)\n"
   ]
  },
  {
   "cell_type": "code",
   "execution_count": null,
   "metadata": {
    "collapsed": false
   },
   "outputs": [],
   "source": [
    "s3.pc2 = step3clusters(s2.pc2, 2)\n",
    "plotMedTraj(s3.pc2)"
   ]
  },
  {
   "cell_type": "markdown",
   "metadata": {},
   "source": [
    "# Trajectory Clustering by Weight\n"
   ]
  },
  {
   "cell_type": "code",
   "execution_count": null,
   "metadata": {
    "collapsed": false,
    "run_control": {
     "frozen": false,
     "read_only": false
    }
   },
   "outputs": [],
   "source": [
    "dat.train.raw %>% head\n"
   ]
  },
  {
   "cell_type": "code",
   "execution_count": null,
   "metadata": {
    "collapsed": false
   },
   "outputs": [],
   "source": [
    "dat.times = dat.train.raw %>% \n",
    "    select(SUBJID, measurementId, GAGEDAYS) %>% \n",
    "    spread(measurementId, GAGEDAYS) %>% \n",
    "#    filter(complete.cases(.)) %>% \n",
    "    as.matrix\n",
    "dat.values = dat.train.raw %>% \n",
    "    select(SUBJID, measurementId, WTKG.estimate) %>%  \n",
    "    spread(measurementId, WTKG.estimate) %>% \n",
    "#    filter(complete.cases(.)) %>% \n",
    "    as.matrix\n",
    "\n",
    "dat.times %>% head\n",
    "dat.values %>% head"
   ]
  },
  {
   "cell_type": "code",
   "execution_count": null,
   "metadata": {
    "collapsed": false
   },
   "outputs": [],
   "source": [
    "s1 = step1measures(dat.values, dat.times, ID=T)"
   ]
  },
  {
   "cell_type": "code",
   "execution_count": null,
   "metadata": {
    "collapsed": false
   },
   "outputs": [],
   "source": [
    "s2 = step2factors(s1)"
   ]
  },
  {
   "cell_type": "code",
   "execution_count": null,
   "metadata": {
    "collapsed": false
   },
   "outputs": [],
   "source": [
    "s3 = step3clusters(s2)\n",
    "s3$clusters %>% count(cluster)"
   ]
  },
  {
   "cell_type": "code",
   "execution_count": null,
   "metadata": {
    "collapsed": false
   },
   "outputs": [],
   "source": [
    "plotMedTraj(s3)"
   ]
  },
  {
   "cell_type": "code",
   "execution_count": null,
   "metadata": {
    "collapsed": false
   },
   "outputs": [],
   "source": [
    "plotCombTraj(s3)"
   ]
  },
  {
   "cell_type": "code",
   "execution_count": null,
   "metadata": {
    "collapsed": false
   },
   "outputs": [],
   "source": [
    "s3.2c = step3clusters(s2, 2)\n",
    "s3.2c$clusters %>% count(cluster)\n",
    "plotCombTraj(s3.2c)\n",
    "plotBoxplotTraj(s3.2c)"
   ]
  }
 ],
 "metadata": {
  "hide_input": false,
  "kernelspec": {
   "display_name": "R",
   "language": "R",
   "name": "ir"
  },
  "language_info": {
   "codemirror_mode": "r",
   "file_extension": ".r",
   "mimetype": "text/x-r-source",
   "name": "R",
   "pygments_lexer": "r",
   "version": "3.3.1"
  },
  "nav_menu": {},
  "toc": {
   "navigate_menu": true,
   "number_sections": true,
   "sideBar": true,
   "threshold": 6,
   "toc_cell": true,
   "toc_section_display": "block",
   "toc_window_display": false
  }
 },
 "nbformat": 4,
 "nbformat_minor": 1
}
