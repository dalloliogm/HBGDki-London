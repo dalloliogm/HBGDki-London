{
 "cells": [
  {
   "cell_type": "code",
   "execution_count": 1,
   "metadata": {
    "collapsed": true
   },
   "outputs": [],
   "source": [
    "%run 'utils.ipynb'"
   ]
  },
  {
   "cell_type": "code",
   "execution_count": 14,
   "metadata": {
    "collapsed": true
   },
   "outputs": [],
   "source": [
    "from sklearn.metrics import roc_curve, auc\n",
    "import matplotlib.pyplot as plt\n",
    "import random"
   ]
  },
  {
   "cell_type": "code",
   "execution_count": 5,
   "metadata": {
    "collapsed": false
   },
   "outputs": [],
   "source": [
    "def get_ultrasound_dataset():\n",
    "  return pd.read_csv('../training_ultrasound.csv')\n",
    "\n",
    "def clean_ultrasound_dataset(df):\n",
    "  # only consider pre-birth entries\n",
    "  return df.query('AGEDAYS < 0')\n",
    "\n",
    "def get_cleaned_ultrasound_dataset():\n",
    "  return clean_ultrasound_dataset(get_ultrasound_dataset())\n",
    "\n",
    "def score(actual, predictions):\n",
    "  return mean_squared_error(actual, predictions)"
   ]
  },
  {
   "cell_type": "code",
   "execution_count": 26,
   "metadata": {
    "collapsed": true
   },
   "outputs": [],
   "source": [
    "def error_margin(actual, prediction):\n",
    "  return abs(actual - prediction) / actual\n",
    "\n",
    "def error_rate(actual, prediction, margin):\n",
    "  pred_pos = len([x for ind, x in enumerate(prediction) if error_margin(x, actual[ind]) < margin])\n",
    "  return pred_pos * 1.0 / len(prediction)\n",
    "\n",
    "def error_margin_curve(actual, prediction, margins=[0.05, 0.10, 0.15, 0.20]):\n",
    "  error_rates = [error_rate(actual, prediction, margin) for margin in margins]\n",
    "  return pd.DataFrame({\n",
    "            'error margin': pd.Series(margins) * 100,\n",
    "            'error rate': pd.Series(error_rates) * 100\n",
    "        })\n",
    "\n",
    "def plot_roc_curve(actual, prediction, margins=[0.05, 0.10, 0.15, 0.20]):\n",
    "  if hasattr(actual, 'values'):\n",
    "    actual = actual.values\n",
    "  sns.pointplot(x=\"error margin\", y=\"error rate\",\n",
    "    data=error_margin_curve(actual, predictions, margins))\n"
   ]
  },
  {
   "cell_type": "code",
   "execution_count": 25,
   "metadata": {
    "collapsed": true
   },
   "outputs": [],
   "source": [
    "def train_and_evaluate_model(model, X, y, roc_curve=False):\n",
    "  X_train, X_test, Y_train, Y_test = train_test_split(X, y, test_size=0.25)\n",
    "\n",
    "  # we need the .as_matrix() for Keras unfortunately\n",
    "  model.fit(X_train.as_matrix(), Y_train.as_matrix())\n",
    "\n",
    "  print(\"R^2 on the train set:\")\n",
    "  print(score(Y_train, model.predict(X_train.as_matrix())))\n",
    "\n",
    "  predictions = model.predict(X_test.as_matrix())\n",
    "\n",
    "  print(\"\\nR^2 on the test set:\")\n",
    "  print(score(Y_test, predictions))\n",
    "\n",
    "  df = pd.DataFrame({\n",
    "    'actual': pd.Series(Y_test.values),\n",
    "    'predictions': pd.Series(predictions)\n",
    "  })\n",
    "  sns.jointplot('actual', 'predictions', df)\n",
    "\n",
    "  print \"columns:\", X_test.columns.values\n",
    "\n",
    "  df = pd.DataFrame({\n",
    "    'actual - est': pd.Series(Y_test.values) - pd.Series(predictions),\n",
    "    'GAGEDAYS': pd.Series(X_test['GAGEDAYS'])\n",
    "  })\n",
    "  sns.jointplot('GAGEDAYS', 'actual - est', df)\n",
    "  plt.show()\n",
    "  if (roc_curve):\n",
    "    plot_roc_curve(Y_test, predictions)\n",
    "  return model, Y_test, predictions\n"
   ]
  },
  {
   "cell_type": "code",
   "execution_count": null,
   "metadata": {
    "collapsed": true
   },
   "outputs": [],
   "source": []
  },
  {
   "cell_type": "code",
   "execution_count": null,
   "metadata": {
    "collapsed": false
   },
   "outputs": [],
   "source": []
  }
 ],
 "metadata": {
  "kernelspec": {
   "display_name": "Python 2",
   "language": "python",
   "name": "python2"
  },
  "language_info": {
   "codemirror_mode": {
    "name": "ipython",
    "version": 2
   },
   "file_extension": ".py",
   "mimetype": "text/x-python",
   "name": "python",
   "nbconvert_exporter": "python",
   "pygments_lexer": "ipython2",
   "version": "2.7.11+"
  }
 },
 "nbformat": 4,
 "nbformat_minor": 0
}
